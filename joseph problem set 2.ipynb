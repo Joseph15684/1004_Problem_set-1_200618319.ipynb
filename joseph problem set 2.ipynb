{
 "cells": [
  {
   "cell_type": "markdown",
   "id": "4cf715ab-afb2-4872-918e-2a79bb10fb19",
   "metadata": {},
   "source": [
    "**PROBLEM SET -2**"
   ]
  },
  {
   "cell_type": "markdown",
   "id": "4c64f193-2c9d-496a-973f-83bf585534ba",
   "metadata": {},
   "source": [
    "**Question - 1**"
   ]
  },
  {
   "cell_type": "code",
   "execution_count": 1,
   "id": "6a106245-bc69-4d38-888a-b67056427a9f",
   "metadata": {},
   "outputs": [
    {
     "data": {
      "text/plain": [
       "6"
      ]
     },
     "execution_count": 1,
     "metadata": {},
     "output_type": "execute_result"
    }
   ],
   "source": [
    "a = 0\n",
    "def b():\n",
    " global a\n",
    " a = c(a)\n",
    "def c(a):\n",
    " return a + 2\n",
    " \n",
    "b()\n",
    "b()\n",
    "b()\n",
    "a\n",
    "#Explanation- here 'a=0' is a global variable , where a global variable can be accessed throughout the program body by all functions.\n",
    "# but inside a function the variable would be local. inorder to make that varable global we use the keyword \"global\".\n",
    "# which makes the varible a same as inside and outside in the function. in the function b() defines the 'a=c(a)',where 'c' is a another function.\n",
    "# in the function c(a) is evaluated ,in c() a is added with 2. \n",
    "\n",
    "#when the first function b() is evaluated,it goes to fucntion c() there value of a=0 is added with 2 and return to the function\n",
    "# a is 2 now , after calling the function b() again,it undergo the function c(a) agian the value of a=4\n",
    "# a is 4 now, after executing the fucntion b() agaian,the value became a=6\n",
    "#now when the value a is evaluated final valaue is 6 is displayed."
   ]
  },
  {
   "cell_type": "markdown",
   "id": "26e66778-fca0-4253-89f4-495d1c4b3c50",
   "metadata": {},
   "source": [
    "**Question - 2**"
   ]
  },
  {
   "cell_type": "code",
   "execution_count": 67,
   "id": "aab355e1-9411-44fa-b352-e986923a0373",
   "metadata": {},
   "outputs": [
    {
     "name": "stdout",
     "output_type": "stream",
     "text": [
      "123\n",
      "Sorry, the file file.txt not found.\n"
     ]
    }
   ],
   "source": [
    "def fileLength(file_name):\n",
    "    try:\n",
    "        file = open(file_name)\n",
    "        contents = file.read()\n",
    "        file.close()\n",
    "        print(len(contents))\n",
    "    except FileNotFoundError:\n",
    "        print(f\"Sorry, the file {file_name} not found.\")\n",
    "        \n",
    "fileLength(\"filelength.txt\")\n",
    "fileLength(\"file.txt\")"
   ]
  },
  {
   "cell_type": "markdown",
   "id": "3025943f-68a4-4dff-8aa4-8658b515e1cf",
   "metadata": {},
   "source": [
    "**Question - 3**"
   ]
  },
  {
   "cell_type": "code",
   "execution_count": 10,
   "id": "aa8b3cc9-ea38-408d-8efe-8151be842617",
   "metadata": {},
   "outputs": [
    {
     "name": "stdout",
     "output_type": "stream",
     "text": [
      "['doll', 'firetruck', 'kitten']\n"
     ]
    }
   ],
   "source": [
    "class Marsupial:\n",
    "    def __init__(self):\n",
    "        self.pouch=[]\n",
    "    def put_in_pouch(self,item):\n",
    "        self.pouch.append(item)\n",
    "    def pouch_contents(self):\n",
    "        print(self.pouch)\n",
    "    \n",
    "m=Marsupial()\n",
    "m.put_in_pouch('doll')\n",
    "m.put_in_pouch('firetruck')\n",
    "m.put_in_pouch('kitten')\n",
    "m.pouch_contents()"
   ]
  },
  {
   "cell_type": "code",
   "execution_count": 12,
   "id": "a4a90604-2924-4490-9108-89e65018c8e5",
   "metadata": {},
   "outputs": [],
   "source": [
    "class Kangaroo(Marsupial):\n",
    "    def __init__(self, x, y):\n",
    "        super().__init__()\n",
    "        self.x = x\n",
    "        self.y = y\n",
    "\n",
    "    def jump(self, dx, dy):\n",
    "        self.x += dx\n",
    "        self.y += dy\n",
    "\n",
    "    def __str__(self):\n",
    "        return f\"I am a Kangaroo located at coordinates ({self.x}, {self.y})\""
   ]
  },
  {
   "cell_type": "code",
   "execution_count": 14,
   "id": "b7d9bd65-c2a9-4c8c-972e-0e517a49f2a1",
   "metadata": {},
   "outputs": [
    {
     "name": "stdout",
     "output_type": "stream",
     "text": [
      "I am a Kangaroo located at coordinates (0, 0)\n",
      "['doll', 'firetruck', 'kitten']\n",
      "I am a Kangaroo located at coordinates (3, 0)\n"
     ]
    }
   ],
   "source": [
    "k = Kangaroo(0,0)\n",
    "print(k)\n",
    "k.put_in_pouch('doll')\n",
    "k.put_in_pouch('firetruck')\n",
    "k.put_in_pouch('kitten')\n",
    "k.pouch_contents()\n",
    "k.jump(1,0)\n",
    "k.jump(1,0)\n",
    "k.jump(1,0)\n",
    "print(k)"
   ]
  },
  {
   "cell_type": "markdown",
   "id": "8a9bccdb-f783-4f4b-affa-8a9191ca359e",
   "metadata": {},
   "source": [
    "**Question-4**"
   ]
  },
  {
   "cell_type": "code",
   "execution_count": 17,
   "id": "87ba3049-f5aa-4444-ab44-195e09b3a39d",
   "metadata": {},
   "outputs": [
    {
     "name": "stdout",
     "output_type": "stream",
     "text": [
      "1\n",
      "10\n",
      "5\n",
      "16\n",
      "8\n",
      "4\n",
      "2\n",
      "1\n"
     ]
    }
   ],
   "source": [
    "def collatz(x):\n",
    "    print(x)\n",
    "    if x == 1:\n",
    "        return\n",
    "    elif x % 2 == 0:\n",
    "        val=x//2\n",
    "        collatz(val)\n",
    "    else:\n",
    "        val=3*x+1\n",
    "        collatz(val)\n",
    "\n",
    "collatz(1)\n",
    "collatz(10)\n"
   ]
  },
  {
   "cell_type": "markdown",
   "id": "5388b4be-a81a-436d-ac17-17225fca7fb6",
   "metadata": {},
   "source": [
    "**Question -5**"
   ]
  },
  {
   "cell_type": "code",
   "execution_count": 20,
   "id": "26541195-60d5-46e0-b7d3-32cb38993426",
   "metadata": {},
   "outputs": [
    {
     "name": "stdout",
     "output_type": "stream",
     "text": [
      "0"
     ]
    }
   ],
   "source": [
    "def binary(n):\n",
    "    if n > 1:\n",
    "        binary(n // 2)\n",
    "    print(n % 2, end='')\n",
    "    \n",
    "binary(0)"
   ]
  },
  {
   "cell_type": "code",
   "execution_count": 22,
   "id": "3a28e7d6-2e23-4993-a257-d49463ea0ebb",
   "metadata": {},
   "outputs": [
    {
     "name": "stdout",
     "output_type": "stream",
     "text": [
      "1"
     ]
    }
   ],
   "source": [
    "binary(1)"
   ]
  },
  {
   "cell_type": "code",
   "execution_count": 24,
   "id": "b867bbfe-3c7c-412c-9461-0da0bed7c841",
   "metadata": {},
   "outputs": [
    {
     "name": "stdout",
     "output_type": "stream",
     "text": [
      "11"
     ]
    }
   ],
   "source": [
    "binary(3)"
   ]
  },
  {
   "cell_type": "code",
   "execution_count": 26,
   "id": "f7ff4d0a-3348-47b5-bc43-33cf4f06b8eb",
   "metadata": {},
   "outputs": [
    {
     "name": "stdout",
     "output_type": "stream",
     "text": [
      "1001"
     ]
    }
   ],
   "source": [
    "binary(9)"
   ]
  },
  {
   "cell_type": "markdown",
   "id": "4a9d6e75-0284-4799-9fde-33503588d14f",
   "metadata": {},
   "source": [
    "**Question -6**"
   ]
  },
  {
   "cell_type": "code",
   "execution_count": 35,
   "id": "d3206f82-a2c6-4511-b4cb-aa02eb9b266d",
   "metadata": {},
   "outputs": [
    {
     "name": "stdout",
     "output_type": "stream",
     "text": [
      "W3C Mission\n",
      "\tPrinciples\n",
      "\t"
     ]
    }
   ],
   "source": [
    "from html.parser import HTMLParser\n",
    "store=[]\n",
    "class HeadingParser(HTMLParser):\n",
    "    global store\n",
    "    def handle_starttag(self, tag, attrs):\n",
    "        store.append(tag)\n",
    "    def handle_data(self, data):\n",
    "        store.append(data)        \n",
    "    def handle_endtag(self,tag):\n",
    "        if(tag==\"html\"):\n",
    "            for var in store:\n",
    "                for htag in ('h1','h2','h3','h4','h5','h6'):\n",
    "                    if(var==htag):\n",
    "                        i=store.index(htag)\n",
    "                        print(store[i+1],end=\"\\n\\t\")\n",
    "\n",
    "                        \n",
    "parser = HeadingParser()\n",
    "infile = open('w3c.txt')\n",
    "content = infile.read()\n",
    "infile.close()\n",
    "hp = HeadingParser()\n",
    "hp.feed(content)"
   ]
  },
  {
   "cell_type": "markdown",
   "id": "6094396b-04fc-4a80-9aaa-2699c0cde6b9",
   "metadata": {},
   "source": [
    "**Question-7**"
   ]
  },
  {
   "cell_type": "code",
   "execution_count": 39,
   "id": "84269d16-0939-4817-9ee1-772035dc2692",
   "metadata": {},
   "outputs": [
    {
     "name": "stdout",
     "output_type": "stream",
     "text": [
      "http://reed.cs.depaul.edu/lperkovic/csc242/test1.html\n"
     ]
    }
   ],
   "source": [
    "import requests\n",
    "from bs4 import BeautifulSoup\n",
    "\n",
    "\n",
    "def webdir(url, depth, indent):\n",
    "    if depth < 0:\n",
    "        return\n",
    "\n",
    "    response = requests.get(url)\n",
    "    soup = BeautifulSoup(response.content, 'html.parser')\n",
    "\n",
    "    print(' ' * indent + url)\n",
    "\n",
    "    if depth == 0:\n",
    "        return\n",
    "\n",
    "    for link in soup.find_all('a'):\n",
    "        href = link.get('href')\n",
    "        if href and href.startswith('http'):\n",
    "            webdir(href, depth - 1, indent + 1)\n",
    "        \n",
    "webdir('http://reed.cs.depaul.edu/lperkovic/csc242/test1.html', 2, 0)\n",
    "            "
   ]
  },
  {
   "cell_type": "markdown",
   "id": "3e0a62de-0ca1-4bb9-80d2-000176ab2eca",
   "metadata": {},
   "source": [
    "**Question -8**"
   ]
  },
  {
   "cell_type": "code",
   "execution_count": 42,
   "id": "eae10577-75e5-42b4-ab02-21d5295662f4",
   "metadata": {},
   "outputs": [
    {
     "name": "stdout",
     "output_type": "stream",
     "text": [
      "Collecting ipython-sql\n",
      "  Downloading ipython_sql-0.5.0-py3-none-any.whl.metadata (17 kB)\n",
      "Collecting prettytable (from ipython-sql)\n",
      "  Downloading prettytable-3.12.0-py3-none-any.whl.metadata (30 kB)\n",
      "Requirement already satisfied: ipython in c:\\users\\josep\\anaconda3\\lib\\site-packages (from ipython-sql) (8.25.0)\n",
      "Requirement already satisfied: sqlalchemy>=2.0 in c:\\users\\josep\\anaconda3\\lib\\site-packages (from ipython-sql) (2.0.30)\n",
      "Collecting sqlparse (from ipython-sql)\n",
      "  Downloading sqlparse-0.5.1-py3-none-any.whl.metadata (3.9 kB)\n",
      "Requirement already satisfied: six in c:\\users\\josep\\anaconda3\\lib\\site-packages (from ipython-sql) (1.16.0)\n",
      "Requirement already satisfied: ipython-genutils in c:\\users\\josep\\anaconda3\\lib\\site-packages (from ipython-sql) (0.2.0)\n",
      "Requirement already satisfied: typing-extensions>=4.6.0 in c:\\users\\josep\\anaconda3\\lib\\site-packages (from sqlalchemy>=2.0->ipython-sql) (4.11.0)\n",
      "Requirement already satisfied: greenlet!=0.4.17 in c:\\users\\josep\\anaconda3\\lib\\site-packages (from sqlalchemy>=2.0->ipython-sql) (3.0.1)\n",
      "Requirement already satisfied: decorator in c:\\users\\josep\\anaconda3\\lib\\site-packages (from ipython->ipython-sql) (5.1.1)\n",
      "Requirement already satisfied: jedi>=0.16 in c:\\users\\josep\\anaconda3\\lib\\site-packages (from ipython->ipython-sql) (0.18.1)\n",
      "Requirement already satisfied: matplotlib-inline in c:\\users\\josep\\anaconda3\\lib\\site-packages (from ipython->ipython-sql) (0.1.6)\n",
      "Requirement already satisfied: prompt-toolkit<3.1.0,>=3.0.41 in c:\\users\\josep\\anaconda3\\lib\\site-packages (from ipython->ipython-sql) (3.0.43)\n",
      "Requirement already satisfied: pygments>=2.4.0 in c:\\users\\josep\\anaconda3\\lib\\site-packages (from ipython->ipython-sql) (2.15.1)\n",
      "Requirement already satisfied: stack-data in c:\\users\\josep\\anaconda3\\lib\\site-packages (from ipython->ipython-sql) (0.2.0)\n",
      "Requirement already satisfied: traitlets>=5.13.0 in c:\\users\\josep\\anaconda3\\lib\\site-packages (from ipython->ipython-sql) (5.14.3)\n",
      "Requirement already satisfied: colorama in c:\\users\\josep\\anaconda3\\lib\\site-packages (from ipython->ipython-sql) (0.4.6)\n",
      "Requirement already satisfied: wcwidth in c:\\users\\josep\\anaconda3\\lib\\site-packages (from prettytable->ipython-sql) (0.2.5)\n",
      "Requirement already satisfied: parso<0.9.0,>=0.8.0 in c:\\users\\josep\\anaconda3\\lib\\site-packages (from jedi>=0.16->ipython->ipython-sql) (0.8.3)\n",
      "Requirement already satisfied: executing in c:\\users\\josep\\anaconda3\\lib\\site-packages (from stack-data->ipython->ipython-sql) (0.8.3)\n",
      "Requirement already satisfied: asttokens in c:\\users\\josep\\anaconda3\\lib\\site-packages (from stack-data->ipython->ipython-sql) (2.0.5)\n",
      "Requirement already satisfied: pure-eval in c:\\users\\josep\\anaconda3\\lib\\site-packages (from stack-data->ipython->ipython-sql) (0.2.2)\n",
      "Downloading ipython_sql-0.5.0-py3-none-any.whl (20 kB)\n",
      "Downloading prettytable-3.12.0-py3-none-any.whl (31 kB)\n",
      "Downloading sqlparse-0.5.1-py3-none-any.whl (44 kB)\n",
      "   ---------------------------------------- 0.0/44.2 kB ? eta -:--:--\n",
      "   ---------------------------------------- 44.2/44.2 kB 2.1 MB/s eta 0:00:00\n",
      "Installing collected packages: sqlparse, prettytable, ipython-sql\n",
      "Successfully installed ipython-sql-0.5.0 prettytable-3.12.0 sqlparse-0.5.1\n"
     ]
    }
   ],
   "source": [
    "!pip install ipython-sql"
   ]
  },
  {
   "cell_type": "code",
   "execution_count": 44,
   "id": "4a6b7800-3f0b-4fe0-8ba4-dd2935084b66",
   "metadata": {},
   "outputs": [],
   "source": [
    "import sqlite3\n",
    "con = sqlite3.connect('weather.db')\n",
    "cur = con.cursor()\n",
    "cur.execute('''CREATE TABLE climate\n",
    "            (\n",
    "                City TEXT,\n",
    "                Country TEXT,\n",
    "                Season TEXT,\n",
    "                Temperature REAL,\n",
    "                Rainfall REAL\n",
    "             )''')\n",
    " \n",
    "weather_data = [('Mumbai', 'India', 'Winter', 24.8, 5.9),\n",
    "                ('Mumbai', 'India', 'Spring', 28.4, 16.2),\n",
    "                ('Mumbai', 'India', 'Summer', 27.9, 1549.4),\n",
    "                ('Mumbai', 'India', 'Fall', 27.6, 346.0),\n",
    "                ('London', 'United Kingdom', 'Winter', 4.2, 207.7),\n",
    "                ('London', 'United Kingdom', 'Spring', 8.3, 169.6),\n",
    "                ('London', 'United Kingdom', 'Summer', 15.7, 157.0),\n",
    "                ('London', 'United Kingdom', 'Fall', 10.4, 218.5),\n",
    "                ('Cairo', 'Egypt', 'Winter', 13.6, 16.5),\n",
    "                ('Cairo', 'Egypt', 'Spring', 20.7, 6.5),\n",
    "                ('Cairo', 'Egypt', 'Summer', 27.7, 0.1),\n",
    "                ('Cairo', 'Egypt', 'Fall', 22.2, 4.5)]\n",
    "cur.executemany('INSERT INTO climate VALUES (?, ?, ?, ?, ?)', weather_data)\n",
    "con.commit()\n",
    "con.close()"
   ]
  },
  {
   "cell_type": "code",
   "execution_count": 46,
   "id": "af18049a-7d63-43a7-9f2f-732dcb479ecd",
   "metadata": {},
   "outputs": [
    {
     "name": "stdout",
     "output_type": "stream",
     "text": [
      "All the temperature data : [(24.8,), (28.4,), (27.9,), (27.6,), (4.2,), (8.3,), (15.7,), (10.4,), (13.6,), (20.7,), (27.7,), (22.2,)]\n"
     ]
    }
   ],
   "source": [
    "#a All the temperature data\n",
    "import sqlite3\n",
    "con = sqlite3.connect('weather.db')\n",
    "cur = con.cursor()\n",
    "cur.execute('SELECT Temperature FROM climate')\n",
    "temperature_data = cur.fetchall()\n",
    "print(\"All the temperature data :\",temperature_data)"
   ]
  },
  {
   "cell_type": "code",
   "execution_count": 48,
   "id": "d8cd4755-a9f5-4cd0-b957-29b5db15264a",
   "metadata": {},
   "outputs": [
    {
     "name": "stdout",
     "output_type": "stream",
     "text": [
      "All the cities, but without repetition : [('Mumbai',), ('London',), ('Cairo',)]\n"
     ]
    }
   ],
   "source": [
    "#b All the cities, but without repetition\n",
    "cur.execute('SELECT DISTINCT city FROM climate')\n",
    "city_data = cur.fetchall()\n",
    "print('All the cities, but without repetition :',city_data)"
   ]
  },
  {
   "cell_type": "code",
   "execution_count": 50,
   "id": "3efe70d5-1377-46ab-b2c4-a69756981ad7",
   "metadata": {},
   "outputs": [
    {
     "name": "stdout",
     "output_type": "stream",
     "text": [
      "All the records for India: [('Mumbai', 'India', 'Winter', 24.8, 5.9), ('Mumbai', 'India', 'Spring', 28.4, 16.2), ('Mumbai', 'India', 'Summer', 27.9, 1549.4), ('Mumbai', 'India', 'Fall', 27.6, 346.0)]\n"
     ]
    }
   ],
   "source": [
    "#c All the records for India\n",
    "cur.execute(\"SELECT * FROM climate WHERE  Country  = 'India'\")\n",
    "India_data = cur.fetchall()\n",
    "print('All the records for India:',India_data)"
   ]
  },
  {
   "cell_type": "code",
   "execution_count": 52,
   "id": "ab1f57e2-e171-4eb9-a814-2b83d8e0d4d1",
   "metadata": {},
   "outputs": [
    {
     "name": "stdout",
     "output_type": "stream",
     "text": [
      "All the records for fall: [('Mumbai', 'India', 'Fall', 27.6, 346.0), ('London', 'United Kingdom', 'Fall', 10.4, 218.5), ('Cairo', 'Egypt', 'Fall', 22.2, 4.5)]\n"
     ]
    }
   ],
   "source": [
    "#d All the records for fall\n",
    "cur.execute(\"SELECT * FROM climate WHERE  Season  = 'Fall'\")\n",
    "Fall_data = cur.fetchall()\n",
    "print('All the records for fall:',Fall_data)"
   ]
  },
  {
   "cell_type": "code",
   "execution_count": 71,
   "id": "e624e66e-5906-487f-bd6e-13f0693811ad",
   "metadata": {},
   "outputs": [
    {
     "ename": "AttributeError",
     "evalue": "'function' object has no attribute 'fetchone'",
     "output_type": "error",
     "traceback": [
      "\u001b[1;31m---------------------------------------------------------------------------\u001b[0m",
      "\u001b[1;31mAttributeError\u001b[0m                            Traceback (most recent call last)",
      "Cell \u001b[1;32mIn[71], line 3\u001b[0m\n\u001b[0;32m      1\u001b[0m \u001b[38;5;66;03m#g The total annual rainfall for Cairo\u001b[39;00m\n\u001b[0;32m      2\u001b[0m cur\u001b[38;5;241m.\u001b[39mexecute(\u001b[38;5;124m\"\u001b[39m\u001b[38;5;124mSELECT SUM(Rainfall) AS TotalRainfall FROM climate WHERE City = \u001b[39m\u001b[38;5;124m'\u001b[39m\u001b[38;5;124mCairo\u001b[39m\u001b[38;5;124m'\u001b[39m\u001b[38;5;124m\"\u001b[39m)\n\u001b[1;32m----> 3\u001b[0m sum_rainfall \u001b[38;5;241m=\u001b[39m c\u001b[38;5;241m.\u001b[39mfetchone()[\u001b[38;5;241m0\u001b[39m]\n\u001b[0;32m      4\u001b[0m \u001b[38;5;28mprint\u001b[39m(\u001b[38;5;124m\"\u001b[39m\u001b[38;5;124mThe total annual rainfall for Cairo:\u001b[39m\u001b[38;5;124m\"\u001b[39m,sum_rainfall)\n",
      "\u001b[1;31mAttributeError\u001b[0m: 'function' object has no attribute 'fetchone'"
     ]
    }
   ],
   "source": [
    "#g The total annual rainfall for Cairo\n",
    "cur.execute(\"SELECT SUM(Rainfall) AS TotalRainfall FROM climate WHERE City = 'Cairo'\")\n",
    "sum_rainfall = c.fetchone()[0]\n",
    "print(\"The total annual rainfall for Cairo:\",sum_rainfall)"
   ]
  },
  {
   "cell_type": "code",
   "execution_count": 58,
   "id": "4659613b-aea0-4814-b2e7-a83ff228bc58",
   "metadata": {},
   "outputs": [
    {
     "name": "stdout",
     "output_type": "stream",
     "text": [
      "The total rainfall for each season: [('Fall', 569.0), ('Spring', 192.29999999999998), ('Summer', 1706.5), ('Winter', 230.1)]\n"
     ]
    }
   ],
   "source": [
    "#h The total rainfall for each season\n",
    "cur.execute(\"SELECT Season, SUM(Rainfall) AS TotalRainfall FROM climate GROUP BY Season\")\n",
    "sea_rainfall = cur.fetchall()\n",
    "print(\"The total rainfall for each season:\",sea_rainfall)"
   ]
  },
  {
   "cell_type": "markdown",
   "id": "29e598a0-2bc8-4e73-bcee-c8cad1047b08",
   "metadata": {},
   "source": [
    "**Question -9**"
   ]
  },
  {
   "cell_type": "code",
   "execution_count": 61,
   "id": "67fb9e14-ba9e-48d1-8c4d-e3b340594195",
   "metadata": {},
   "outputs": [
    {
     "name": "stdout",
     "output_type": "stream",
     "text": [
      "The words in uppercase: ['THE', 'QUICK', 'BROWN', 'FOX', 'JUMPS', 'OVER', 'THE', 'LAZY', 'DOG']\n",
      "The words in lowercase: ['the', 'quick', 'brown', 'fox', 'jumps', 'over', 'the', 'lazy', 'dog']\n",
      "Length of each word in words : [3, 5, 5, 3, 5, 4, 3, 4, 3]\n",
      "The content of list: [['THE', 'the', 3], ['QUICK', 'quick', 5], ['BROWN', 'brown', 5], ['FOX', 'fox', 3], ['JUMPS', 'jumps', 5], ['OVER', 'over', 4], ['THE', 'the', 3], ['LAZY', 'lazy', 4], ['DOG', 'dog', 3]]\n",
      "The list of words in list words containing 4 or more characters: ['quick', 'brown', 'jumps', 'over', 'lazy']\n"
     ]
    }
   ],
   "source": [
    "words = ['The', 'quick', 'brown', 'fox', 'jumps', 'over', 'the', 'lazy', 'dog']\n",
    "\n",
    "upper_words = [word.upper() for word in words]\n",
    "print(\"The words in uppercase:\",upper_words)\n",
    "\n",
    "lower_words = [word.lower() for word in words]\n",
    "print(\"The words in lowercase:\",lower_words)\n",
    "\n",
    "len_words = [len(word) for word in words]\n",
    "print(\"Length of each word in words :\",len_words)\n",
    "\n",
    "newlist= [[word.upper(), word.lower(), len(word)] for word in words]\n",
    "print(\"The content of list:\",newlist)\n",
    "\n",
    "list_2= [word for word in words if len(word) >= 4]\n",
    "print(\"The list of words in list words containing 4 or more characters:\",list_2)\n",
    "\n"
   ]
  },
  {
   "cell_type": "code",
   "execution_count": null,
   "id": "e7e2b7dc-6d73-4701-b024-a188ff4b17bf",
   "metadata": {},
   "outputs": [],
   "source": []
  }
 ],
 "metadata": {
  "kernelspec": {
   "display_name": "Python 3 (ipykernel)",
   "language": "python",
   "name": "python3"
  },
  "language_info": {
   "codemirror_mode": {
    "name": "ipython",
    "version": 3
   },
   "file_extension": ".py",
   "mimetype": "text/x-python",
   "name": "python",
   "nbconvert_exporter": "python",
   "pygments_lexer": "ipython3",
   "version": "3.12.4"
  }
 },
 "nbformat": 4,
 "nbformat_minor": 5
}
